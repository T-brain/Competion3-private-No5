{
 "cells": [
  {
   "cell_type": "code",
   "execution_count": 1,
   "metadata": {},
   "outputs": [],
   "source": [
    "import numpy as np\n",
    "import pandas as pd\n",
    "import xgboost as xgb\n",
    "import matplotlib.pyplot as plt\n",
    "\n",
    "from numpy import loadtxt\n",
    "from sklearn import cluster, datasets, metrics ,preprocessing\n",
    "from sklearn.metrics import mean_absolute_error,accuracy_score,confusion_matrix\n",
    "from sklearn.linear_model import LinearRegression,Lasso,Ridge\n",
    "from sklearn.model_selection import train_test_split\n",
    "from xgboost import XGBRegressor\n",
    "from xgboost import XGBClassifier\n",
    "from IPython.display import clear_output\n",
    "\n",
    "def try_par(y_true, y_pred):\n",
    "    minmae=99999\n",
    "    Rnnn=0\n",
    "    for nnn in range(800,1200):\n",
    "        T1 = y_pred*nnn/1000\n",
    "        mae = mean_absolute_error(y_true,T1)\n",
    "        if minmae>mae:\n",
    "            minmae=mae\n",
    "            Rnnn=nnn\n",
    "    return Rnnn/1000\n",
    "\n",
    "def train_model(train_x,train_y,test_x,Re,num_class=3):\n",
    "    params={'booster':'gbtree',\n",
    "        'objective': 'multi:softmax', \n",
    "        'num_class':num_class,\n",
    "        'gamma':0.05,\n",
    "        'max_depth':7,\n",
    "        'subsample':0.5,\n",
    "        'colsample_bytree':0.6,\n",
    "        'silent':1 ,\n",
    "        'eta': 0.07,\n",
    "        'seed':1000,\n",
    "        'nthread':4\n",
    "       }\n",
    "    plst = list(params.items())\n",
    "    num_rounds = 200\n",
    "    offset = int(len(train_x)*0.8)\n",
    "    train_x = train_x.reset_index(drop=True)\n",
    "    train_y = train_y.reset_index(drop=True)\n",
    "    xgtrain = xgb.DMatrix(train_x.loc[:offset,:], label=train_y[:offset+1])\n",
    "    xgval = xgb.DMatrix(train_x.loc[offset:,:], label=train_y[offset:])\n",
    "    watchlist = [(xgtrain, 'train'),(xgval, 'val')]\n",
    "    model = xgb.train(plst, xgtrain, num_rounds, watchlist,early_stopping_rounds=40)\n",
    "\n",
    "    test_x = test_x.reset_index(drop=True)\n",
    "    Re = Re.reset_index(drop=True)\n",
    "    pred1 = model.predict(xgb.DMatrix(Re),ntree_limit=model.best_iteration)\n",
    "    pred2 = model.predict(xgb.DMatrix(test_x),ntree_limit=model.best_iteration)\n",
    "    clear_output()\n",
    "    return pred1,pred2\n",
    "\n",
    "rgb_model = XGBRegressor(\n",
    "                            learning_rate = 0.1,\n",
    "                            n_estimators = 200,\n",
    "                            max_depth= 7,\n",
    "                            objective = 'reg:linear',\n",
    "                            nthread = 4,\n",
    "                            seed=1000\n",
    "                         )\n",
    "def train_model2(train_x,train_y,train_y2,test_x,Mask1,Mask2):\n",
    "    rgb_model.fit(train_x[Mask1],train_y2[Mask1])\n",
    "    T1,T2 = rgb_model.predict(train_x),rgb_model.predict(test_x)\n",
    "    T1[T1<0]=0\n",
    "    T2[T2<0]=0\n",
    "    T3 = train_x['Premium_sum']*T1\n",
    "    T4 = test_x['Premium_sum']*T2\n",
    "    A = try_par(train_y[Mask2],T3[Mask2])\n",
    "    T3,T4=T3*A,T4*A\n",
    "    return T3,T4,A\n",
    "\n",
    "def train_model2_1(train_x,train_y,train_y2,test_x,Mask1,Mask2):\n",
    "    rgb_model.fit(train_x[Mask1],train_y2[Mask1])\n",
    "    T1,T2 = rgb_model.predict(train_x),rgb_model.predict(test_x)\n",
    "    T1[T1<0]=0\n",
    "    T2[T2<0]=0\n",
    "    T3 = train_x['Premium_sum']*T1\n",
    "    T4 = test_x['Premium_sum']*T2\n",
    "    A=1\n",
    "    return T3,T4,A\n",
    "\n",
    "def train_model3(train_x,train_y,test_x,Mask1,Mask2):\n",
    "    rgb_model.fit(train_x[Mask1],train_y[Mask1])\n",
    "    T1,T2 = rgb_model.predict(train_x),rgb_model.predict(test_x)\n",
    "    T1[T1<0]=0\n",
    "    T2[T2<0]=0\n",
    "    A = try_par(train_y[Mask2],T1[Mask2])\n",
    "    T1,T2 = T1*A,T2*A\n",
    "    return T1,T2,A\n",
    "\n",
    "def and2(A,B):\n",
    "    C=A.copy()\n",
    "    C[C]=B\n",
    "    return C\n",
    "def div1(Y,N1,N2):\n",
    "    Z = Y.copy()\n",
    "    A = Y.copy()\n",
    "    Z[A>=N1] = 0\n",
    "    Z[np.logical_and(A<N1,A>N2)] = 1\n",
    "    Z[A<=N2] = 2\n",
    "    return Z\n",
    "def div_count(N):\n",
    "    L=int(N.max())+1\n",
    "    S = [0]*L\n",
    "    for i in range(L):\n",
    "        S[i] = (N==i).sum()\n",
    "    return S"
   ]
  },
  {
   "cell_type": "code",
   "execution_count": 2,
   "metadata": {},
   "outputs": [],
   "source": [
    "train = pd.read_csv('../data/training_policy_c2.csv')\n",
    "T = pd.read_csv('../data/duplicate_policy.csv',header=None)\n",
    "T = T[0]\n",
    "TF = train['Policy_Number']!=T[0]\n",
    "for i in range(1,len(T)):\n",
    "    TF = np.logical_and(TF,train['Policy_Number']!=T[i])\n",
    "train = train[TF]\n",
    "train = train.reset_index(drop=True)"
   ]
  },
  {
   "cell_type": "code",
   "execution_count": 3,
   "metadata": {},
   "outputs": [],
   "source": [
    "test = pd.read_csv('../data/testing_policy_c2.csv')\n",
    "train_y = train['Next_Premium'].copy()\n",
    "train_y2 = (train_y/train['Premium_sum'])\n",
    "del train['Next_Premium']\n",
    "del test['Next_Premium']\n",
    "test_PN = test['Policy_Number']\n",
    "del train['Policy_Number']\n",
    "del test['Policy_Number']\n",
    "train_x = train\n",
    "test_x = test"
   ]
  },
  {
   "cell_type": "code",
   "execution_count": 4,
   "metadata": {},
   "outputs": [
    {
     "name": "stdout",
     "output_type": "stream",
     "text": [
      "0.967 0.986 2140.677918932396\n"
     ]
    }
   ],
   "source": [
    "N1,N2= 2000, 0\n",
    "d00 = div1(train_y,N1,N2)\n",
    "S00 = div_count(d00)\n",
    "\n",
    "P00,P01 = train_model(train_x,d00,test_x,train_x)\n",
    "\n",
    "Mask000,Mask001,Mask002 = P00==0,P00==1,P00==2\n",
    "Mask010,Mask011,Mask012 = P01==0,P01==1,P01==2\n",
    "\n",
    "Mask1 = train_y>1500\n",
    "Mask2 = np.logical_and(train_y<=2000,train_y>0)\n",
    "\n",
    "T1,T2,A1 = train_model3(train_x,train_y,test_x,Mask1,Mask000)\n",
    "T3,T4,A2 = train_model3(train_x,train_y,test_x,Mask2,Mask001)\n",
    "\n",
    "A00,A01 = train_x['Premium_sum'] * 1,test_x['Premium_sum']*1\n",
    "A00[Mask002]=0\n",
    "A01[Mask012]=0\n",
    "\n",
    "mae1 = mean_absolute_error(train_y,A00)\n",
    "print(A1,A2,mae1)"
   ]
  },
  {
   "cell_type": "code",
   "execution_count": 6,
   "metadata": {},
   "outputs": [
    {
     "name": "stdout",
     "output_type": "stream",
     "text": [
      "0.967 0.986 0.981 2111.5150640468537\n"
     ]
    }
   ],
   "source": [
    "N1,N2= 5000,2500\n",
    "d10 = div1(train_y[P00!=2],N1,N2)\n",
    "S10 = div_count(d10)\n",
    "\n",
    "P10,P11 = train_model(train_x[P00!=2],d10,test_x[P01!=2],train_x[P00!=2])\n",
    "\n",
    "Mask100,Mask101,Mask102 = and2(P00!=2,P10==0),and2(P00!=2,P10==1),and2(P00!=2,P10==2)\n",
    "Mask110,Mask111,Mask112 = and2(P01!=2,P11==0),and2(P01!=2,P11==1),and2(P01!=2,P11==2)\n",
    "\n",
    "Mask3 = np.logical_and(train_y<=2600,train_y>0)\n",
    "T5,T6,A3 = train_model3(train_x,train_y,test_x,Mask3,Mask102)\n",
    "\n",
    "A10,A11 = A00.copy(),A01.copy()\n",
    "A10[Mask102]=T5[Mask102]\n",
    "A11[Mask112]=T6[Mask112]\n",
    "\n",
    "mae1 = mean_absolute_error(train_y,A10)\n",
    "print(A1,A2,A3,mae1)"
   ]
  },
  {
   "cell_type": "code",
   "execution_count": 7,
   "metadata": {},
   "outputs": [
    {
     "name": "stdout",
     "output_type": "stream",
     "text": [
      "0.999 0.996 1 1568.047786030844\n"
     ]
    }
   ],
   "source": [
    "N1,N2= 0.9,0.5\n",
    "d20 = div1(train_y2[Mask100],N1,N2)\n",
    "S20 = div_count(d20)\n",
    "\n",
    "P20,P21 = train_model(train_x[Mask100],d20,test_x[Mask110],train_x[Mask100])\n",
    "Mask200,Mask201,Mask202 = and2(Mask100,P20==0),and2(Mask100,P20==1),and2(Mask100,P20==2)\n",
    "Mask210,Mask211,Mask212 = and2(Mask110,P21==0),and2(Mask110,P21==1),and2(Mask110,P21==2)\n",
    "\n",
    "Mask1 = np.logical_and(train_y2>0.5,train_y2<1.25)\n",
    "Mask2 = np.logical_and(train_y2>0.35,train_y2<0.95)\n",
    "Mask3 = np.logical_and(train_y2>0.35,train_y2<0.75)\n",
    "T1,T2,A1 = train_model2(train_x,train_y,train_y2,test_x,Mask1,Mask200)\n",
    "T3,T4,A2 = train_model2(train_x,train_y,train_y2,test_x,Mask2,Mask201)\n",
    "T5,T6,A3 = train_model2_1(train_x,train_y,train_y2,test_x,Mask3,Mask202)\n",
    "\n",
    "A20,A21 = A10.copy(),A11.copy()\n",
    "A20[Mask200]=T1[Mask200]\n",
    "A20[Mask201]=T3[Mask201]\n",
    "A20[Mask202]=T5[Mask202]\n",
    "A21[Mask210]=T2[Mask210]\n",
    "A21[Mask211]=T4[Mask211]\n",
    "A21[Mask212]=T6[Mask212]\n",
    "\n",
    "mae1 = mean_absolute_error(train_y,A20)\n",
    "print(A1,A2,A3,mae1)"
   ]
  },
  {
   "cell_type": "code",
   "execution_count": 9,
   "metadata": {},
   "outputs": [
    {
     "name": "stdout",
     "output_type": "stream",
     "text": [
      "0.994 0.997 1 1542.8940282731164\n"
     ]
    }
   ],
   "source": [
    "N1,N2= 0.95,0.5\n",
    "d30 = div1(train_y2[Mask101],N1,N2)\n",
    "S30 = div_count(d30)\n",
    "P30,P31 = train_model(train_x[Mask101],d30,test_x[Mask111],train_x[Mask101])\n",
    "\n",
    "Mask300,Mask301,Mask302 = and2(Mask101,P30==0),and2(Mask101,P30==1),and2(Mask101,P30==2)\n",
    "Mask310,Mask311,Mask312 = and2(Mask111,P31==0),and2(Mask111,P31==1),and2(Mask111,P31==2)\n",
    "\n",
    "Mask1 = np.logical_and(train_y2>0.45,train_y2<1.2)\n",
    "Mask2 = np.logical_and(train_y2>0.35,train_y2<1)\n",
    "Mask3 = np.logical_and(train_y2>0.4,train_y2<0.95)\n",
    "T1,T2,A1 = train_model2(train_x,train_y,train_y2,test_x,Mask1,Mask300)\n",
    "T3,T4,A2 = train_model2(train_x,train_y,train_y2,test_x,Mask2,Mask301)\n",
    "T5,T6,A3 = train_model2_1(train_x,train_y,train_y2,test_x,Mask3,Mask302)\n",
    "\n",
    "A30,A31 = A20.copy(),A21.copy()\n",
    "A30[Mask300]=T1[Mask300]\n",
    "A30[Mask301]=T3[Mask301]\n",
    "A30[Mask302]=T5[Mask302]\n",
    "\n",
    "A31[Mask310]=T2[Mask310]\n",
    "A31[Mask311]=T4[Mask311]\n",
    "A31[Mask312]=T6[Mask312]\n",
    "\n",
    "mae1 = mean_absolute_error(train_y,A30)\n",
    "print(A1,A2,A3,mae1)"
   ]
  },
  {
   "cell_type": "code",
   "execution_count": 10,
   "metadata": {},
   "outputs": [
    {
     "name": "stdout",
     "output_type": "stream",
     "text": [
      "1.002 0.987 1542.4068310158032\n"
     ]
    }
   ],
   "source": [
    "N1,N2= 0.95,0.5\n",
    "d40 = div1(train_y2[Mask102],N1,N2)\n",
    "S40 = div_count(d40)\n",
    "P40,P41 = train_model(train_x[Mask102],d40,test_x[Mask112],train_x[Mask102])\n",
    "\n",
    "Mask400,Mask401,Mask402 = and2(Mask102,P40==0),and2(Mask102,P40==1),and2(Mask102,P40==2)\n",
    "Mask410,Mask411,Mask412 = and2(Mask112,P41==0),and2(Mask112,P41==1),and2(Mask112,P41==2)\n",
    "\n",
    "Mask1 = np.logical_and(train_y2>0.05,train_y2<1.1)\n",
    "Mask2 = np.logical_and(train_y2>0.5,train_y2<1)\n",
    "T1,T2,A1 = train_model2(train_x,train_y,train_y2,test_x,Mask1,Mask400)\n",
    "T3,T4,A2 = train_model2(train_x,train_y,train_y2,test_x,Mask2,Mask401)\n",
    "\n",
    "A40,A41 = A30.copy(),A31.copy()\n",
    "A40[Mask400]=T1[Mask400]\n",
    "A40[Mask401]=T3[Mask401]\n",
    "A41[Mask410]=T2[Mask410]\n",
    "A41[Mask411]=T4[Mask411]\n",
    "\n",
    "mae1 = mean_absolute_error(train_y,A40)\n",
    "print(A1,A2,mae1)"
   ]
  },
  {
   "cell_type": "code",
   "execution_count": null,
   "metadata": {},
   "outputs": [],
   "source": [
    "output_csv = pd.DataFrame({\"Policy_Number\":test_PN ,\"Next_Premium\":A41})\n",
    "output_csv.to_csv(\"10.csv\", sep=',', index=False, header=True, encoding='utf_8_sig')"
   ]
  },
  {
   "cell_type": "code",
   "execution_count": null,
   "metadata": {},
   "outputs": [],
   "source": []
  },
  {
   "cell_type": "code",
   "execution_count": null,
   "metadata": {},
   "outputs": [],
   "source": []
  },
  {
   "cell_type": "code",
   "execution_count": null,
   "metadata": {},
   "outputs": [],
   "source": []
  },
  {
   "cell_type": "code",
   "execution_count": null,
   "metadata": {},
   "outputs": [],
   "source": []
  },
  {
   "cell_type": "code",
   "execution_count": null,
   "metadata": {},
   "outputs": [],
   "source": []
  }
 ],
 "metadata": {
  "kernelspec": {
   "display_name": "Python 3",
   "language": "python",
   "name": "python3"
  },
  "language_info": {
   "codemirror_mode": {
    "name": "ipython",
    "version": 3
   },
   "file_extension": ".py",
   "mimetype": "text/x-python",
   "name": "python",
   "nbconvert_exporter": "python",
   "pygments_lexer": "ipython3",
   "version": "3.6.5"
  }
 },
 "nbformat": 4,
 "nbformat_minor": 2
}
