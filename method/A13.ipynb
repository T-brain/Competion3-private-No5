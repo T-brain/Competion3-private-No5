{
 "cells": [
  {
   "cell_type": "code",
   "execution_count": 1,
   "metadata": {},
   "outputs": [],
   "source": [
    "import numpy as np\n",
    "import pandas as pd\n",
    "import xgboost as xgb\n",
    "import matplotlib.pyplot as plt\n",
    "\n",
    "from numpy import loadtxt\n",
    "from sklearn import cluster, datasets, metrics ,preprocessing\n",
    "from sklearn.metrics import mean_absolute_error,accuracy_score,confusion_matrix\n",
    "from sklearn.linear_model import LinearRegression,Lasso,Ridge\n",
    "from sklearn.model_selection import train_test_split\n",
    "from xgboost import XGBRegressor\n",
    "from xgboost import XGBClassifier\n",
    "from IPython.display import clear_output\n",
    "\n",
    "def train_model(train_x,train_y,test_x,Re,num_class=3):\n",
    "    params={'booster':'gbtree',\n",
    "        'objective': 'multi:softmax', \n",
    "        'num_class':num_class,\n",
    "        'gamma':0.05,\n",
    "        'max_depth':7,\n",
    "        'subsample':0.5,\n",
    "        'colsample_bytree':0.6,\n",
    "        'silent':1 ,\n",
    "        'eta': 0.07,\n",
    "        'seed':1000,\n",
    "        'nthread':4\n",
    "       }\n",
    "    plst = list(params.items())\n",
    "    num_rounds = 200\n",
    "    offset = int(len(train_x)*0.8)\n",
    "    train_x = train_x.reset_index(drop=True)\n",
    "    train_y = train_y.reset_index(drop=True)\n",
    "    xgtrain = xgb.DMatrix(train_x.loc[:offset,:], label=train_y[:offset+1])\n",
    "    xgval = xgb.DMatrix(train_x.loc[offset:,:], label=train_y[offset:])\n",
    "    watchlist = [(xgtrain, 'train'),(xgval, 'val')]\n",
    "    model = xgb.train(plst, xgtrain, num_rounds, watchlist,early_stopping_rounds=40)\n",
    "\n",
    "    test_x = test_x.reset_index(drop=True)\n",
    "    Re = Re.reset_index(drop=True)\n",
    "    pred1 = model.predict(xgb.DMatrix(Re),ntree_limit=model.best_iteration)\n",
    "    pred2 = model.predict(xgb.DMatrix(test_x),ntree_limit=model.best_iteration)\n",
    "    clear_output()\n",
    "    return pred1,pred2\n",
    "\n",
    "rgb_model = XGBRegressor(\n",
    "                            learning_rate = 0.1,\n",
    "                            n_estimators = 200,\n",
    "                            max_depth= 7,\n",
    "                            objective = 'reg:linear',\n",
    "                            nthread = 4,\n",
    "                            seed=1000\n",
    "                         )\n",
    "\n",
    "def modelfit(train_x,train_y2,test_x,Mask1):\n",
    "    rgb_model.fit(train_x[Mask1],train_y2[Mask1])\n",
    "    T1,T2 = rgb_model.predict(train_x),rgb_model.predict(test_x)\n",
    "    T1[T1<0]=0\n",
    "    T2[T2<0]=0\n",
    "    T3 = train_x['Premium_sum']*T1\n",
    "    T4 = test_x['Premium_sum']*T2\n",
    "    return T3,T4\n",
    "\n",
    "def and2(A,B):\n",
    "    C=A.copy()\n",
    "    C[C]=B\n",
    "    return C\n",
    "def div1(Y,N1,N2):\n",
    "    Z = Y.copy()\n",
    "    A = Y.copy()\n",
    "    Z[A>=N1] = 0\n",
    "    Z[np.logical_and(A<N1,A>N2)] = 1\n",
    "    Z[A<=N2] = 2\n",
    "    return Z\n",
    "def div2(Y,N):\n",
    "    Z = Y.copy()\n",
    "    A = Y.copy()\n",
    "    L = len(N)+1\n",
    "    Z[A>=N[0]] = 0\n",
    "    for i in range(1,L-2):\n",
    "        Z[np.logical_and(A<N[i-1],A>=N[i])] = i\n",
    "    Z[np.logical_and(A<N[-2],A>N[-1])] = L-2\n",
    "    Z[A<=N[-1]] = L-1\n",
    "    return Z"
   ]
  },
  {
   "cell_type": "code",
   "execution_count": 2,
   "metadata": {},
   "outputs": [],
   "source": [
    "train = pd.read_csv('../data/training_policy_c2.csv')\n",
    "T = pd.read_csv('../data/duplicate_policy.csv',header=None)\n",
    "T = T[0]\n",
    "TF = train['Policy_Number']!=T[0]\n",
    "for i in range(1,len(T)):\n",
    "    TF = np.logical_and(TF,train['Policy_Number']!=T[i])\n",
    "train = train[TF]\n",
    "train = train.reset_index(drop=True)\n",
    "\n",
    "test = pd.read_csv('../data/testing_policy_c2.csv')\n",
    "train_y = train['Next_Premium'].copy()\n",
    "train_y2 = (train_y/train['Premium_sum'])\n",
    "test_PN = test['Policy_Number']\n",
    "\n",
    "del train['Next_Premium']\n",
    "del test['Next_Premium']\n",
    "del train['Policy_Number']\n",
    "del test['Policy_Number']\n",
    "\n",
    "train_x = train\n",
    "test_x = test"
   ]
  },
  {
   "cell_type": "code",
   "execution_count": 3,
   "metadata": {},
   "outputs": [
    {
     "name": "stdout",
     "output_type": "stream",
     "text": [
      "1581.2489958128638\n"
     ]
    }
   ],
   "source": [
    "N1,N2= 2000, 0\n",
    "d00 = div1(train_y,N1,N2)\n",
    "P00,P01 = train_model(train_x,d00,test_x,train_x)\n",
    "\n",
    "Mask000,Mask001,Mask002 = P00==0,P00==1,P00==2\n",
    "Mask010,Mask011,Mask012 = P01==0,P01==1,P01==2\n",
    "\n",
    "Mask1 = np.logical_and(train_y2>0.2,train_y2<1.15)\n",
    "A00,A01 = modelfit(train_x,train_y2,test_x,Mask1)\n",
    "A00[Mask002] = 0\n",
    "A01[Mask012] = 0\n",
    "print(mean_absolute_error(train_y,A00))"
   ]
  },
  {
   "cell_type": "code",
   "execution_count": 4,
   "metadata": {},
   "outputs": [
    {
     "name": "stdout",
     "output_type": "stream",
     "text": [
      "1566.9884728105758\n"
     ]
    }
   ],
   "source": [
    "Mask003,Mask013 = np.logical_and(Mask000,train_x['Premium_sum']>3859),np.logical_and(Mask010,test_x['Premium_sum']>3859)\n",
    "\n",
    "N1,N2= 1.1,0.9\n",
    "d10 = div1(train_y2[Mask003],N1,N2)\n",
    "P10,P11 = train_model(train_x[Mask003],d10,test_x[Mask013],train_x[Mask003])\n",
    "\n",
    "Mask100,Mask101,Mask102 = and2(Mask003,P10==0),and2(Mask003,P10==1),and2(Mask003,P10==2)\n",
    "Mask110,Mask111,Mask112 = and2(Mask013,P11==0),and2(Mask013,P11==1),and2(Mask013,P11==2)\n",
    "\n",
    "A10,A11 = A00.copy(),A01.copy()\n",
    "\n",
    "Mask1 = np.logical_and(train_y2>0.2,train_y2<1.35)\n",
    "A12,A13 = modelfit(train_x,train_y2,test_x,Mask1)\n",
    "A10[Mask100] = A12[Mask100]\n",
    "A11[Mask110] = A13[Mask110]\n",
    "\n",
    "Mask1 = np.logical_and(train_y2>0.7,train_y2<1.1)\n",
    "A12,A13 = modelfit(train_x,train_y2,test_x,Mask1)\n",
    "A10[Mask101] = A12[Mask101]\n",
    "A11[Mask111] = A13[Mask111]\n",
    "\n",
    "print(mean_absolute_error(train_y,A10))"
   ]
  },
  {
   "cell_type": "code",
   "execution_count": 5,
   "metadata": {},
   "outputs": [
    {
     "name": "stdout",
     "output_type": "stream",
     "text": [
      "1545.9712601806716\n"
     ]
    }
   ],
   "source": [
    "def Log_and(T,N1,N2):\n",
    "    return np.logical_and(T>N1,T<=N2)\n",
    "\n",
    "T20,T21 = A10/train_x['Premium_sum'],A11/test_x['Premium_sum']\n",
    "\n",
    "Mask200,Mask210 = Log_and(T20,0.00, 0.76),Log_and(T21,0.00, 0.76)\n",
    "Mask201,Mask211 = Log_and(T20,0.76, 0.80),Log_and(T21,0.76, 0.80)\n",
    "Mask202,Mask212 = Log_and(T20,0.80, 0.86),Log_and(T21,0.80, 0.86)\n",
    "Mask203,Mask213 = Log_and(T20,0.87, 0.90),Log_and(T21,0.87, 0.90)\n",
    "\n",
    "A20,A21 = A10.copy(),A11.copy()\n",
    "\n",
    "Mask1 = np.logical_and(train_y2>0.35,train_y2<0.8)\n",
    "A22,A23 = modelfit(train_x,train_y2,test_x,Mask1)\n",
    "A20[Mask200] = A22[Mask200]\n",
    "A21[Mask210] = A23[Mask210]\n",
    "\n",
    "Mask1 = np.logical_and(train_y2>0.55,train_y2<0.85)\n",
    "A22,A23 = modelfit(train_x,train_y2,test_x,Mask1)\n",
    "A20[Mask201] = A22[Mask201]\n",
    "A21[Mask211] = A23[Mask211]\n",
    "\n",
    "Mask1 = np.logical_and(train_y2>0.6,train_y2<1.0)\n",
    "A22,A23 = modelfit(train_x,train_y2,test_x,Mask1)\n",
    "A20[Mask202] = A22[Mask202]\n",
    "A21[Mask212] = A23[Mask212]\n",
    "\n",
    "Mask1 = np.logical_and(train_y2>0.55,train_y2<1.0)\n",
    "A22,A23 = modelfit(train_x,train_y2,test_x,Mask1)\n",
    "A20[Mask203] = A22[Mask203]\n",
    "A21[Mask213] = A23[Mask213]\n",
    "\n",
    "print(mean_absolute_error(train_y,A20))"
   ]
  },
  {
   "cell_type": "code",
   "execution_count": 6,
   "metadata": {},
   "outputs": [
    {
     "name": "stdout",
     "output_type": "stream",
     "text": [
      "1522.7630871776992\n"
     ]
    }
   ],
   "source": [
    "d30 = div2(train_y2[Mask000],[1.4,1.2,1.12,0.81,0.73,0])\n",
    "P30,P31 = train_model(train_x[Mask000],d30,test_x[Mask010],train_x[Mask000],7)\n",
    "\n",
    "Mask300,Mask301,Mask304,Mask306 = and2(Mask000,P30==0),and2(Mask000,P30==1),and2(Mask000,P30==4),and2(Mask000,P30==6)\n",
    "Mask310,Mask311,Mask314,Mask316 = and2(Mask010,P31==0),and2(Mask010,P31==1),and2(Mask010,P31==4),and2(Mask010,P31==6)\n",
    "\n",
    "A30,A31 = A20.copy(),A21.copy()\n",
    "\n",
    "Mask1 = np.logical_and(train_y2>0.65,train_y2<2.0)\n",
    "A32,A33 = modelfit(train_x,train_y2,test_x,Mask1)\n",
    "A30[Mask300] = A32[Mask300]\n",
    "A31[Mask310] = A33[Mask310]\n",
    "\n",
    "Mask1 = np.logical_and(train_y2>0.1,train_y2<1.6)\n",
    "A32,A33 = modelfit(train_x,train_y2,test_x,Mask1)\n",
    "A30[Mask301] = A32[Mask301]\n",
    "A31[Mask311] = A33[Mask311]\n",
    "\n",
    "Mask1 = np.logical_and(train_y2>0.6,train_y2<0.85)\n",
    "A32,A33 = modelfit(train_x,train_y2,test_x,Mask1)\n",
    "A30[Mask304] = A32[Mask304]\n",
    "A31[Mask314] = A33[Mask314]\n",
    "\n",
    "Mask1 = np.logical_and(train_y2>0.05,train_y2<0.75)\n",
    "A32,A33 = modelfit(train_x,train_y2,test_x,Mask1)\n",
    "A30[Mask306] = A32[Mask306]\n",
    "A31[Mask316] = A33[Mask316]\n",
    "\n",
    "print(mean_absolute_error(train_y,A30))"
   ]
  },
  {
   "cell_type": "code",
   "execution_count": 7,
   "metadata": {},
   "outputs": [],
   "source": [
    "output_csv = pd.DataFrame({\"Policy_Number\":test_PN ,\"Next_Premium\":A31})\n",
    "output_csv.to_csv(\"13.csv\", sep=',', index=False, header=True, encoding='utf_8_sig')"
   ]
  },
  {
   "cell_type": "code",
   "execution_count": null,
   "metadata": {},
   "outputs": [],
   "source": []
  }
 ],
 "metadata": {
  "kernelspec": {
   "display_name": "Python 3",
   "language": "python",
   "name": "python3"
  },
  "language_info": {
   "codemirror_mode": {
    "name": "ipython",
    "version": 3
   },
   "file_extension": ".py",
   "mimetype": "text/x-python",
   "name": "python",
   "nbconvert_exporter": "python",
   "pygments_lexer": "ipython3",
   "version": "3.6.5"
  }
 },
 "nbformat": 4,
 "nbformat_minor": 2
}
